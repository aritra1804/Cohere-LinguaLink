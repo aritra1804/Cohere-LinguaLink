{
  "cells": [
    {
      "cell_type": "markdown",
      "metadata": {
        "id": "2S5AmIUh6qaz"
      },
      "source": [
        "# Testing and Evaluation "
      ]
    },
    {
      "cell_type": "code",
      "execution_count": null,
      "metadata": {
        "id": "Z9NcGaDY4HJR"
      },
      "outputs": [],
      "source": [
        "from google.colab import drive\n",
        "drive.mount('/content/drive')"
      ]
    },
    {
      "cell_type": "code",
      "execution_count": null,
      "metadata": {
        "id": "Ha_XHwq664zv"
      },
      "outputs": [],
      "source": [
        "%cd /content/drive/MyDrive\n",
        "\n",
        "!git clone https://github.com/aritra1804/Cohere-LinguaLink.git"
      ]
    },
    {
      "cell_type": "markdown",
      "metadata": {
        "id": "cwhqlTTr7i1J"
      },
      "source": [
        "# Cohere Installation"
      ]
    },
    {
      "cell_type": "code",
      "execution_count": null,
      "metadata": {
        "id": "Wc9MELob7ku3"
      },
      "outputs": [],
      "source": [
        "!pip install cohere"
      ]
    },
    {
      "cell_type": "code",
      "execution_count": null,
      "metadata": {
        "id": "dYBORmOz7wNX"
      },
      "outputs": [],
      "source": [
        "!python3 scripts/cohere_align.py \\\n",
        "  --cohere_api_key '<api_key>' \\\n",
        "  -m 'embed-multilingual-v2.0' \\\n",
        "  -s src.txt \\\n",
        "  -t trg.txt \\\n",
        "  -o cohere \\\n",
        "  --retrieval 'nn' \\\n",
        "  --dot \\\n",
        "  --cuda"
      ]
    },
    {
      "cell_type": "markdown",
      "metadata": {
        "id": "nax8y2jl70xQ"
      },
      "source": [
        "# Laser Installation"
      ]
    },
    {
      "cell_type": "code",
      "execution_count": null,
      "metadata": {
        "id": "eRWsVlY27-4k"
      },
      "outputs": [],
      "source": [
        "!pip install laserembeddings\n",
        "\n",
        "\n",
        "!python -m laserembeddings download-models"
      ]
    },
    {
      "cell_type": "code",
      "execution_count": null,
      "metadata": {
        "id": "oGuhPxHk7_4O"
      },
      "outputs": [],
      "source": [
        "!python3 scripts/laser_align.py \\\n",
        "  -s src.txt \\\n",
        "  -t trg.txt \\\n",
        "  -o cohere \\\n",
        "  --src_lang ha \\\n",
        "  --trg_lang en \\\n",
        "  --retrieval 'nn' \\\n",
        "  --dot \\\n",
        "  --cuda"
      ]
    },
    {
      "cell_type": "markdown",
      "metadata": {
        "id": "GEuc9lr_8KDg"
      },
      "source": [
        "#Evaluation"
      ]
    },
    {
      "cell_type": "markdown",
      "metadata": {
        "id": "AcC-avWb8WXE"
      },
      "source": [
        "## Download FLORES Dataset"
      ]
    },
    {
      "cell_type": "code",
      "execution_count": null,
      "metadata": {
        "id": "MHPYAb6r8NAL"
      },
      "outputs": [],
      "source": [
        "# evaluation on flores devtest\n",
        "\n",
        "!wget --trust-server-names https://tinyurl.com/flores200dataset"
      ]
    },
    {
      "cell_type": "code",
      "execution_count": null,
      "metadata": {
        "id": "QWMjfbUq8pdy"
      },
      "outputs": [],
      "source": [
        "!tar -xvzf flores200_dataset.tar.gz"
      ]
    },
    {
      "cell_type": "markdown",
      "metadata": {
        "id": "c2hi3PIF8ghQ"
      },
      "source": [
        "## Generate alignment using laser and cohere"
      ]
    },
    {
      "cell_type": "code",
      "execution_count": null,
      "metadata": {
        "id": "3fhiCZzp8wuV"
      },
      "outputs": [],
      "source": [
        "!python3 scripts/laser_align.py \\\n",
        "  -s flores200_dataset/devtest/hau_Latn.devtest \\\n",
        "  -t flores200_dataset/devtest/eng_Latn.devtest \\\n",
        "  -o cohere/flores \\\n",
        "  --src_lang ha \\\n",
        "  --trg_lang en \\\n",
        "  --retrieval 'nn' \\\n",
        "  --dot \\\n",
        "  --cuda"
      ]
    },
    {
      "cell_type": "code",
      "execution_count": null,
      "metadata": {
        "id": "k384oTcA81rR"
      },
      "outputs": [],
      "source": [
        "!python3 scripts/cohere_align.py \\\n",
        "  --cohere_api_key '<api_key>' \\\n",
        "  -m 'embed-multilingual-v2.0' \\\n",
        "  -s flores200_dataset/devtest/hau_Latn.devtest \\\n",
        "  -t flores200_dataset/devtest/eng_Latn.devtest \\\n",
        "  -o cohere/flores \\\n",
        "  --retrieval 'nn' \\\n",
        "  --dot \\\n",
        "  --cuda"
      ]
    },
    {
      "cell_type": "markdown",
      "metadata": {
        "id": "aSzM6yqG9DCF"
      },
      "source": [
        "## Calculate F1 score"
      ]
    },
    {
      "cell_type": "code",
      "execution_count": null,
      "metadata": {
        "id": "2bYra_vG9Eml"
      },
      "outputs": [],
      "source": [
        "from sklearn.metrics import f1_score\n",
        "import pandas as pd\n",
        "\n",
        "with open('flores200_dataset/devtest/eng_Latn.devtest') as f:\n",
        "  y_true = f.readlines()\n",
        "  y_true = [y.strip() for y in y_true]\n",
        "\n",
        "# cohere f1\n",
        "df = pd.read_csv('cohere/flores/cohere_translations.csv')\n",
        "y_pred = df['translations'].tolist()\n",
        "cohere_f1 = f1_score(y_true, y_pred, average='macro')\n",
        "\n",
        "# laser f1\n",
        "df = pd.read_csv('cohere/flores/laser_translations.csv')\n",
        "y_pred = df['translations'].tolist()\n",
        "laser_f1 = f1_score(y_true, y_pred, average='macro')"
      ]
    },
    {
      "cell_type": "markdown",
      "metadata": {},
      "source": [
        "# Print Results"
      ]
    },
    {
      "cell_type": "code",
      "execution_count": null,
      "metadata": {
        "id": "cegKE4AH9R2S"
      },
      "outputs": [],
      "source": [
        "print(cohere_f1, laser_f1)"
      ]
    }
  ],
  "metadata": {
    "colab": {
      "include_colab_link": true,
      "provenance": []
    },
    "kernelspec": {
      "display_name": "Python 3",
      "name": "python3"
    },
    "language_info": {
      "name": "python"
    }
  },
  "nbformat": 4,
  "nbformat_minor": 0
}
